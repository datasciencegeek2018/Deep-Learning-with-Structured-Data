{
 "cells": [
  {
   "cell_type": "markdown",
   "metadata": {},
   "source": [
    "## Applying Deep Learning to Structured Data\n",
    "\n",
    "### In this example we leverage a Kaggle dataset based on the \"home credit default risk\" competiton which tries to predict how capable each applicant is of repaying a loan\n",
    "\n",
    "* Our sole objective here is to show how deep learning can work with a structured dataset\n",
    "* We used the base data provided and not all of the other datasets that were provided or any external data\n",
    "* The approach followed here is based on [Entity Embeddings of categorical variables](http://www.arxiv.org/abs/1604.06737)\n",
    "* It is adapted from fastai by Jeremy Howard\n",
    "* Without any feature engineering and by only using base datasets we were able to get a AUC of ~0.75 by adapting deep learning approaches (specifically embedding matrices)"
   ]
  },
  {
   "cell_type": "code",
   "execution_count": 1,
   "metadata": {},
   "outputs": [],
   "source": [
    "%matplotlib inline\n",
    "%reload_ext autoreload\n",
    "%autoreload 2"
   ]
  },
  {
   "cell_type": "code",
   "execution_count": 2,
   "metadata": {},
   "outputs": [
    {
     "name": "stdout",
     "output_type": "stream",
     "text": [
      "/home/paperspace/fastai\n"
     ]
    }
   ],
   "source": [
    "cd ~/fastai"
   ]
  },
  {
   "cell_type": "code",
   "execution_count": 3,
   "metadata": {},
   "outputs": [],
   "source": [
    "from fastai.structured import *\n",
    "from fastai.column_data import *\n",
    "np.set_printoptions(threshold=50, edgeitems=20)"
   ]
  },
  {
   "cell_type": "code",
   "execution_count": 4,
   "metadata": {},
   "outputs": [],
   "source": [
    "# read in the training and test datasets from csv files\n",
    "training_set=pd.read_csv('~/hcdr/application_train.csv')\n",
    "test_set=pd.read_csv('~/hcdr/application_test.csv')"
   ]
  },
  {
   "cell_type": "code",
   "execution_count": 5,
   "metadata": {},
   "outputs": [
    {
     "name": "stdout",
     "output_type": "stream",
     "text": [
      "<class 'pandas.core.frame.DataFrame'>\n",
      "RangeIndex: 48744 entries, 0 to 48743\n",
      "Columns: 121 entries, SK_ID_CURR to AMT_REQ_CREDIT_BUREAU_YEAR\n",
      "dtypes: float64(65), int64(40), object(16)\n",
      "memory usage: 45.0+ MB\n"
     ]
    }
   ],
   "source": [
    "test_set.info()"
   ]
  },
  {
   "cell_type": "code",
   "execution_count": 6,
   "metadata": {},
   "outputs": [
    {
     "data": {
      "text/html": [
       "<div>\n",
       "<style scoped>\n",
       "    .dataframe tbody tr th:only-of-type {\n",
       "        vertical-align: middle;\n",
       "    }\n",
       "\n",
       "    .dataframe tbody tr th {\n",
       "        vertical-align: top;\n",
       "    }\n",
       "\n",
       "    .dataframe thead th {\n",
       "        text-align: right;\n",
       "    }\n",
       "</style>\n",
       "<table border=\"1\" class=\"dataframe\">\n",
       "  <thead>\n",
       "    <tr style=\"text-align: right;\">\n",
       "      <th></th>\n",
       "      <th>SK_ID_CURR</th>\n",
       "      <th>TARGET</th>\n",
       "      <th>NAME_CONTRACT_TYPE</th>\n",
       "      <th>CODE_GENDER</th>\n",
       "      <th>FLAG_OWN_CAR</th>\n",
       "      <th>FLAG_OWN_REALTY</th>\n",
       "      <th>CNT_CHILDREN</th>\n",
       "      <th>AMT_INCOME_TOTAL</th>\n",
       "      <th>AMT_CREDIT</th>\n",
       "      <th>AMT_ANNUITY</th>\n",
       "      <th>...</th>\n",
       "      <th>FLAG_DOCUMENT_18</th>\n",
       "      <th>FLAG_DOCUMENT_19</th>\n",
       "      <th>FLAG_DOCUMENT_20</th>\n",
       "      <th>FLAG_DOCUMENT_21</th>\n",
       "      <th>AMT_REQ_CREDIT_BUREAU_HOUR</th>\n",
       "      <th>AMT_REQ_CREDIT_BUREAU_DAY</th>\n",
       "      <th>AMT_REQ_CREDIT_BUREAU_WEEK</th>\n",
       "      <th>AMT_REQ_CREDIT_BUREAU_MON</th>\n",
       "      <th>AMT_REQ_CREDIT_BUREAU_QRT</th>\n",
       "      <th>AMT_REQ_CREDIT_BUREAU_YEAR</th>\n",
       "    </tr>\n",
       "  </thead>\n",
       "  <tbody>\n",
       "    <tr>\n",
       "      <th>count</th>\n",
       "      <td>307511</td>\n",
       "      <td>307511</td>\n",
       "      <td>NaN</td>\n",
       "      <td>NaN</td>\n",
       "      <td>NaN</td>\n",
       "      <td>NaN</td>\n",
       "      <td>307511</td>\n",
       "      <td>307511</td>\n",
       "      <td>307511</td>\n",
       "      <td>307499</td>\n",
       "      <td>...</td>\n",
       "      <td>307511</td>\n",
       "      <td>307511</td>\n",
       "      <td>307511</td>\n",
       "      <td>307511</td>\n",
       "      <td>265992</td>\n",
       "      <td>265992</td>\n",
       "      <td>265992</td>\n",
       "      <td>265992</td>\n",
       "      <td>265992</td>\n",
       "      <td>265992</td>\n",
       "    </tr>\n",
       "    <tr>\n",
       "      <th>mean</th>\n",
       "      <td>278181</td>\n",
       "      <td>0.0807288</td>\n",
       "      <td>NaN</td>\n",
       "      <td>NaN</td>\n",
       "      <td>NaN</td>\n",
       "      <td>NaN</td>\n",
       "      <td>0.417052</td>\n",
       "      <td>168798</td>\n",
       "      <td>599026</td>\n",
       "      <td>27108.6</td>\n",
       "      <td>...</td>\n",
       "      <td>0.00812979</td>\n",
       "      <td>0.000595101</td>\n",
       "      <td>0.000507299</td>\n",
       "      <td>0.000334947</td>\n",
       "      <td>0.00640245</td>\n",
       "      <td>0.00700021</td>\n",
       "      <td>0.0343619</td>\n",
       "      <td>0.267395</td>\n",
       "      <td>0.265474</td>\n",
       "      <td>1.89997</td>\n",
       "    </tr>\n",
       "    <tr>\n",
       "      <th>std</th>\n",
       "      <td>102790</td>\n",
       "      <td>0.272419</td>\n",
       "      <td>NaN</td>\n",
       "      <td>NaN</td>\n",
       "      <td>NaN</td>\n",
       "      <td>NaN</td>\n",
       "      <td>0.722121</td>\n",
       "      <td>237123</td>\n",
       "      <td>402491</td>\n",
       "      <td>14493.7</td>\n",
       "      <td>...</td>\n",
       "      <td>0.0897982</td>\n",
       "      <td>0.0243875</td>\n",
       "      <td>0.0225176</td>\n",
       "      <td>0.0182985</td>\n",
       "      <td>0.0838491</td>\n",
       "      <td>0.110757</td>\n",
       "      <td>0.204685</td>\n",
       "      <td>0.916002</td>\n",
       "      <td>0.794056</td>\n",
       "      <td>1.86929</td>\n",
       "    </tr>\n",
       "    <tr>\n",
       "      <th>min</th>\n",
       "      <td>100002</td>\n",
       "      <td>0</td>\n",
       "      <td>NaN</td>\n",
       "      <td>NaN</td>\n",
       "      <td>NaN</td>\n",
       "      <td>NaN</td>\n",
       "      <td>0</td>\n",
       "      <td>25650</td>\n",
       "      <td>45000</td>\n",
       "      <td>1615.5</td>\n",
       "      <td>...</td>\n",
       "      <td>0</td>\n",
       "      <td>0</td>\n",
       "      <td>0</td>\n",
       "      <td>0</td>\n",
       "      <td>0</td>\n",
       "      <td>0</td>\n",
       "      <td>0</td>\n",
       "      <td>0</td>\n",
       "      <td>0</td>\n",
       "      <td>0</td>\n",
       "    </tr>\n",
       "    <tr>\n",
       "      <th>25%</th>\n",
       "      <td>189146</td>\n",
       "      <td>0</td>\n",
       "      <td>NaN</td>\n",
       "      <td>NaN</td>\n",
       "      <td>NaN</td>\n",
       "      <td>NaN</td>\n",
       "      <td>0</td>\n",
       "      <td>112500</td>\n",
       "      <td>270000</td>\n",
       "      <td>16524</td>\n",
       "      <td>...</td>\n",
       "      <td>0</td>\n",
       "      <td>0</td>\n",
       "      <td>0</td>\n",
       "      <td>0</td>\n",
       "      <td>0</td>\n",
       "      <td>0</td>\n",
       "      <td>0</td>\n",
       "      <td>0</td>\n",
       "      <td>0</td>\n",
       "      <td>0</td>\n",
       "    </tr>\n",
       "    <tr>\n",
       "      <th>50%</th>\n",
       "      <td>278202</td>\n",
       "      <td>0</td>\n",
       "      <td>NaN</td>\n",
       "      <td>NaN</td>\n",
       "      <td>NaN</td>\n",
       "      <td>NaN</td>\n",
       "      <td>0</td>\n",
       "      <td>147150</td>\n",
       "      <td>513531</td>\n",
       "      <td>24903</td>\n",
       "      <td>...</td>\n",
       "      <td>0</td>\n",
       "      <td>0</td>\n",
       "      <td>0</td>\n",
       "      <td>0</td>\n",
       "      <td>0</td>\n",
       "      <td>0</td>\n",
       "      <td>0</td>\n",
       "      <td>0</td>\n",
       "      <td>0</td>\n",
       "      <td>1</td>\n",
       "    </tr>\n",
       "    <tr>\n",
       "      <th>75%</th>\n",
       "      <td>367142</td>\n",
       "      <td>0</td>\n",
       "      <td>NaN</td>\n",
       "      <td>NaN</td>\n",
       "      <td>NaN</td>\n",
       "      <td>NaN</td>\n",
       "      <td>1</td>\n",
       "      <td>202500</td>\n",
       "      <td>808650</td>\n",
       "      <td>34596</td>\n",
       "      <td>...</td>\n",
       "      <td>0</td>\n",
       "      <td>0</td>\n",
       "      <td>0</td>\n",
       "      <td>0</td>\n",
       "      <td>0</td>\n",
       "      <td>0</td>\n",
       "      <td>0</td>\n",
       "      <td>0</td>\n",
       "      <td>0</td>\n",
       "      <td>3</td>\n",
       "    </tr>\n",
       "    <tr>\n",
       "      <th>max</th>\n",
       "      <td>456255</td>\n",
       "      <td>1</td>\n",
       "      <td>NaN</td>\n",
       "      <td>NaN</td>\n",
       "      <td>NaN</td>\n",
       "      <td>NaN</td>\n",
       "      <td>19</td>\n",
       "      <td>1.17e+08</td>\n",
       "      <td>4.05e+06</td>\n",
       "      <td>258026</td>\n",
       "      <td>...</td>\n",
       "      <td>1</td>\n",
       "      <td>1</td>\n",
       "      <td>1</td>\n",
       "      <td>1</td>\n",
       "      <td>4</td>\n",
       "      <td>9</td>\n",
       "      <td>8</td>\n",
       "      <td>27</td>\n",
       "      <td>261</td>\n",
       "      <td>25</td>\n",
       "    </tr>\n",
       "    <tr>\n",
       "      <th>counts</th>\n",
       "      <td>307511</td>\n",
       "      <td>307511</td>\n",
       "      <td>307511</td>\n",
       "      <td>307511</td>\n",
       "      <td>307511</td>\n",
       "      <td>307511</td>\n",
       "      <td>307511</td>\n",
       "      <td>307511</td>\n",
       "      <td>307511</td>\n",
       "      <td>307499</td>\n",
       "      <td>...</td>\n",
       "      <td>307511</td>\n",
       "      <td>307511</td>\n",
       "      <td>307511</td>\n",
       "      <td>307511</td>\n",
       "      <td>265992</td>\n",
       "      <td>265992</td>\n",
       "      <td>265992</td>\n",
       "      <td>265992</td>\n",
       "      <td>265992</td>\n",
       "      <td>265992</td>\n",
       "    </tr>\n",
       "    <tr>\n",
       "      <th>uniques</th>\n",
       "      <td>307511</td>\n",
       "      <td>2</td>\n",
       "      <td>2</td>\n",
       "      <td>3</td>\n",
       "      <td>2</td>\n",
       "      <td>2</td>\n",
       "      <td>15</td>\n",
       "      <td>2548</td>\n",
       "      <td>5603</td>\n",
       "      <td>13672</td>\n",
       "      <td>...</td>\n",
       "      <td>2</td>\n",
       "      <td>2</td>\n",
       "      <td>2</td>\n",
       "      <td>2</td>\n",
       "      <td>5</td>\n",
       "      <td>9</td>\n",
       "      <td>9</td>\n",
       "      <td>24</td>\n",
       "      <td>11</td>\n",
       "      <td>25</td>\n",
       "    </tr>\n",
       "    <tr>\n",
       "      <th>missing</th>\n",
       "      <td>0</td>\n",
       "      <td>0</td>\n",
       "      <td>0</td>\n",
       "      <td>0</td>\n",
       "      <td>0</td>\n",
       "      <td>0</td>\n",
       "      <td>0</td>\n",
       "      <td>0</td>\n",
       "      <td>0</td>\n",
       "      <td>12</td>\n",
       "      <td>...</td>\n",
       "      <td>0</td>\n",
       "      <td>0</td>\n",
       "      <td>0</td>\n",
       "      <td>0</td>\n",
       "      <td>41519</td>\n",
       "      <td>41519</td>\n",
       "      <td>41519</td>\n",
       "      <td>41519</td>\n",
       "      <td>41519</td>\n",
       "      <td>41519</td>\n",
       "    </tr>\n",
       "    <tr>\n",
       "      <th>missing_perc</th>\n",
       "      <td>0%</td>\n",
       "      <td>0%</td>\n",
       "      <td>0%</td>\n",
       "      <td>0%</td>\n",
       "      <td>0%</td>\n",
       "      <td>0%</td>\n",
       "      <td>0%</td>\n",
       "      <td>0%</td>\n",
       "      <td>0%</td>\n",
       "      <td>0.00%</td>\n",
       "      <td>...</td>\n",
       "      <td>0%</td>\n",
       "      <td>0%</td>\n",
       "      <td>0%</td>\n",
       "      <td>0%</td>\n",
       "      <td>13.50%</td>\n",
       "      <td>13.50%</td>\n",
       "      <td>13.50%</td>\n",
       "      <td>13.50%</td>\n",
       "      <td>13.50%</td>\n",
       "      <td>13.50%</td>\n",
       "    </tr>\n",
       "    <tr>\n",
       "      <th>types</th>\n",
       "      <td>numeric</td>\n",
       "      <td>bool</td>\n",
       "      <td>bool</td>\n",
       "      <td>categorical</td>\n",
       "      <td>bool</td>\n",
       "      <td>bool</td>\n",
       "      <td>numeric</td>\n",
       "      <td>numeric</td>\n",
       "      <td>numeric</td>\n",
       "      <td>numeric</td>\n",
       "      <td>...</td>\n",
       "      <td>bool</td>\n",
       "      <td>bool</td>\n",
       "      <td>bool</td>\n",
       "      <td>bool</td>\n",
       "      <td>numeric</td>\n",
       "      <td>numeric</td>\n",
       "      <td>numeric</td>\n",
       "      <td>numeric</td>\n",
       "      <td>numeric</td>\n",
       "      <td>numeric</td>\n",
       "    </tr>\n",
       "  </tbody>\n",
       "</table>\n",
       "<p>13 rows × 122 columns</p>\n",
       "</div>"
      ],
      "text/plain": [
       "             SK_ID_CURR     TARGET NAME_CONTRACT_TYPE  CODE_GENDER  \\\n",
       "count            307511     307511                NaN          NaN   \n",
       "mean             278181  0.0807288                NaN          NaN   \n",
       "std              102790   0.272419                NaN          NaN   \n",
       "min              100002          0                NaN          NaN   \n",
       "25%              189146          0                NaN          NaN   \n",
       "50%              278202          0                NaN          NaN   \n",
       "75%              367142          0                NaN          NaN   \n",
       "max              456255          1                NaN          NaN   \n",
       "counts           307511     307511             307511       307511   \n",
       "uniques          307511          2                  2            3   \n",
       "missing               0          0                  0            0   \n",
       "missing_perc         0%         0%                 0%           0%   \n",
       "types           numeric       bool               bool  categorical   \n",
       "\n",
       "             FLAG_OWN_CAR FLAG_OWN_REALTY CNT_CHILDREN AMT_INCOME_TOTAL  \\\n",
       "count                 NaN             NaN       307511           307511   \n",
       "mean                  NaN             NaN     0.417052           168798   \n",
       "std                   NaN             NaN     0.722121           237123   \n",
       "min                   NaN             NaN            0            25650   \n",
       "25%                   NaN             NaN            0           112500   \n",
       "50%                   NaN             NaN            0           147150   \n",
       "75%                   NaN             NaN            1           202500   \n",
       "max                   NaN             NaN           19         1.17e+08   \n",
       "counts             307511          307511       307511           307511   \n",
       "uniques                 2               2           15             2548   \n",
       "missing                 0               0            0                0   \n",
       "missing_perc           0%              0%           0%               0%   \n",
       "types                bool            bool      numeric          numeric   \n",
       "\n",
       "             AMT_CREDIT AMT_ANNUITY            ...              \\\n",
       "count            307511      307499            ...               \n",
       "mean             599026     27108.6            ...               \n",
       "std              402491     14493.7            ...               \n",
       "min               45000      1615.5            ...               \n",
       "25%              270000       16524            ...               \n",
       "50%              513531       24903            ...               \n",
       "75%              808650       34596            ...               \n",
       "max            4.05e+06      258026            ...               \n",
       "counts           307511      307499            ...               \n",
       "uniques            5603       13672            ...               \n",
       "missing               0          12            ...               \n",
       "missing_perc         0%       0.00%            ...               \n",
       "types           numeric     numeric            ...               \n",
       "\n",
       "             FLAG_DOCUMENT_18 FLAG_DOCUMENT_19 FLAG_DOCUMENT_20  \\\n",
       "count                  307511           307511           307511   \n",
       "mean               0.00812979      0.000595101      0.000507299   \n",
       "std                 0.0897982        0.0243875        0.0225176   \n",
       "min                         0                0                0   \n",
       "25%                         0                0                0   \n",
       "50%                         0                0                0   \n",
       "75%                         0                0                0   \n",
       "max                         1                1                1   \n",
       "counts                 307511           307511           307511   \n",
       "uniques                     2                2                2   \n",
       "missing                     0                0                0   \n",
       "missing_perc               0%               0%               0%   \n",
       "types                    bool             bool             bool   \n",
       "\n",
       "             FLAG_DOCUMENT_21 AMT_REQ_CREDIT_BUREAU_HOUR  \\\n",
       "count                  307511                     265992   \n",
       "mean              0.000334947                 0.00640245   \n",
       "std                 0.0182985                  0.0838491   \n",
       "min                         0                          0   \n",
       "25%                         0                          0   \n",
       "50%                         0                          0   \n",
       "75%                         0                          0   \n",
       "max                         1                          4   \n",
       "counts                 307511                     265992   \n",
       "uniques                     2                          5   \n",
       "missing                     0                      41519   \n",
       "missing_perc               0%                     13.50%   \n",
       "types                    bool                    numeric   \n",
       "\n",
       "             AMT_REQ_CREDIT_BUREAU_DAY AMT_REQ_CREDIT_BUREAU_WEEK  \\\n",
       "count                           265992                     265992   \n",
       "mean                        0.00700021                  0.0343619   \n",
       "std                           0.110757                   0.204685   \n",
       "min                                  0                          0   \n",
       "25%                                  0                          0   \n",
       "50%                                  0                          0   \n",
       "75%                                  0                          0   \n",
       "max                                  9                          8   \n",
       "counts                          265992                     265992   \n",
       "uniques                              9                          9   \n",
       "missing                          41519                      41519   \n",
       "missing_perc                    13.50%                     13.50%   \n",
       "types                          numeric                    numeric   \n",
       "\n",
       "             AMT_REQ_CREDIT_BUREAU_MON AMT_REQ_CREDIT_BUREAU_QRT  \\\n",
       "count                           265992                    265992   \n",
       "mean                          0.267395                  0.265474   \n",
       "std                           0.916002                  0.794056   \n",
       "min                                  0                         0   \n",
       "25%                                  0                         0   \n",
       "50%                                  0                         0   \n",
       "75%                                  0                         0   \n",
       "max                                 27                       261   \n",
       "counts                          265992                    265992   \n",
       "uniques                             24                        11   \n",
       "missing                          41519                     41519   \n",
       "missing_perc                    13.50%                    13.50%   \n",
       "types                          numeric                   numeric   \n",
       "\n",
       "             AMT_REQ_CREDIT_BUREAU_YEAR  \n",
       "count                            265992  \n",
       "mean                            1.89997  \n",
       "std                             1.86929  \n",
       "min                                   0  \n",
       "25%                                   0  \n",
       "50%                                   1  \n",
       "75%                                   3  \n",
       "max                                  25  \n",
       "counts                           265992  \n",
       "uniques                              25  \n",
       "missing                           41519  \n",
       "missing_perc                     13.50%  \n",
       "types                           numeric  \n",
       "\n",
       "[13 rows x 122 columns]"
      ]
     },
     "metadata": {},
     "output_type": "display_data"
    }
   ],
   "source": [
    "display(DataFrameSummary(training_set).summary())"
   ]
  },
  {
   "cell_type": "markdown",
   "metadata": {},
   "source": [
    "### We will define categorical variables as those variables in the dataset that are not 'float' and also have less than\n",
    "\n",
    "### 150 unique levels. The remaining will be categorized as continuous variables"
   ]
  },
  {
   "cell_type": "code",
   "execution_count": 7,
   "metadata": {},
   "outputs": [],
   "source": [
    "cat_vars = [col for col in training_set if training_set[col].dtype.name != 'float64' and training_set[col].dtype.name != 'float32' and len(training_set[col].unique()) < 150]"
   ]
  },
  {
   "cell_type": "code",
   "execution_count": 8,
   "metadata": {},
   "outputs": [],
   "source": [
    "contin_vars= [col for col in training_set if not(col in cat_vars)]"
   ]
  },
  {
   "cell_type": "code",
   "execution_count": 9,
   "metadata": {},
   "outputs": [
    {
     "name": "stdout",
     "output_type": "stream",
     "text": [
      "we have 53 categorical variables and 69 continuous variables\n"
     ]
    }
   ],
   "source": [
    "print(f'we have {len(cat_vars)} categorical variables and {len(contin_vars)} continuous variables')"
   ]
  },
  {
   "cell_type": "code",
   "execution_count": 10,
   "metadata": {},
   "outputs": [
    {
     "data": {
      "text/plain": [
       "0    282686\n",
       "1     24825\n",
       "Name: TARGET, dtype: int64"
      ]
     },
     "execution_count": 10,
     "metadata": {},
     "output_type": "execute_result"
    }
   ],
   "source": [
    "training_set['TARGET'].value_counts()"
   ]
  },
  {
   "cell_type": "code",
   "execution_count": 11,
   "metadata": {},
   "outputs": [],
   "source": [
    "# remove the target (dependent) variable from the list of categorical variables\n",
    "cat_vars.remove('TARGET')"
   ]
  },
  {
   "cell_type": "code",
   "execution_count": 12,
   "metadata": {},
   "outputs": [],
   "source": [
    "# remove the ID variable from the list of continuous variables\n",
    "contin_vars.remove('SK_ID_CURR')"
   ]
  },
  {
   "cell_type": "code",
   "execution_count": 13,
   "metadata": {},
   "outputs": [],
   "source": [
    "# create the training set with target and ID \n",
    "dep='TARGET'\n",
    "training_set=training_set[cat_vars+contin_vars+[dep,'SK_ID_CURR']]"
   ]
  },
  {
   "cell_type": "code",
   "execution_count": 18,
   "metadata": {},
   "outputs": [
    {
     "name": "stdout",
     "output_type": "stream",
     "text": [
      "<class 'pandas.core.frame.DataFrame'>\n",
      "RangeIndex: 307511 entries, 0 to 307510\n",
      "Columns: 122 entries, NAME_CONTRACT_TYPE to SK_ID_CURR\n",
      "dtypes: float64(65), int64(41), object(16)\n",
      "memory usage: 286.2+ MB\n"
     ]
    }
   ],
   "source": [
    "training_set.info()"
   ]
  },
  {
   "cell_type": "code",
   "execution_count": 19,
   "metadata": {},
   "outputs": [],
   "source": [
    "# create the test set and set dep to zero in this set\n",
    "test_set[dep]=0\n",
    "test_set=test_set[cat_vars+contin_vars+[dep,'SK_ID_CURR']]"
   ]
  },
  {
   "cell_type": "code",
   "execution_count": 21,
   "metadata": {},
   "outputs": [],
   "source": [
    "# set the type of categorical variables to category\n",
    "for v in cat_vars:\n",
    "    training_set[v]=training_set[v].astype('category').cat.as_ordered()"
   ]
  },
  {
   "cell_type": "code",
   "execution_count": 22,
   "metadata": {},
   "outputs": [],
   "source": [
    "# apply the training data template for categorical variables to test set as well\n",
    "apply_cats(test_set, training_set)"
   ]
  },
  {
   "cell_type": "code",
   "execution_count": 23,
   "metadata": {},
   "outputs": [],
   "source": [
    "# set continuous variable type to float32 as required by pytorch\n",
    "for v in contin_vars:\n",
    "    training_set[v]=training_set[v].astype('float32')\n",
    "    test_set[v]=test_set[v].astype('float32')"
   ]
  },
  {
   "cell_type": "code",
   "execution_count": 24,
   "metadata": {},
   "outputs": [
    {
     "data": {
      "text/plain": [
       "(307511, 122)"
      ]
     },
     "execution_count": 24,
     "metadata": {},
     "output_type": "execute_result"
    }
   ],
   "source": [
    "training_set.shape"
   ]
  },
  {
   "cell_type": "markdown",
   "metadata": {},
   "source": [
    "### Initial tests were run on samples which can be created as follows:"
   ]
  },
  {
   "cell_type": "code",
   "execution_count": 25,
   "metadata": {},
   "outputs": [
    {
     "data": {
      "text/plain": [
       "307511"
      ]
     },
     "execution_count": 25,
     "metadata": {},
     "output_type": "execute_result"
    }
   ],
   "source": [
    "# we are going to run on a sample\n",
    "idxs=get_cv_idxs(len(training_set),val_pct=1.0)\n",
    "training_samp=training_set.iloc[idxs].set_index('SK_ID_CURR')\n",
    "samp_size=len(training_samp)\n",
    "samp_size\n",
    "#training_samp.index"
   ]
  },
  {
   "cell_type": "code",
   "execution_count": 26,
   "metadata": {},
   "outputs": [
    {
     "data": {
      "text/html": [
       "<div>\n",
       "<style scoped>\n",
       "    .dataframe tbody tr th:only-of-type {\n",
       "        vertical-align: middle;\n",
       "    }\n",
       "\n",
       "    .dataframe tbody tr th {\n",
       "        vertical-align: top;\n",
       "    }\n",
       "\n",
       "    .dataframe thead th {\n",
       "        text-align: right;\n",
       "    }\n",
       "</style>\n",
       "<table border=\"1\" class=\"dataframe\">\n",
       "  <thead>\n",
       "    <tr style=\"text-align: right;\">\n",
       "      <th></th>\n",
       "      <th>NAME_CONTRACT_TYPE</th>\n",
       "      <th>CODE_GENDER</th>\n",
       "      <th>FLAG_OWN_CAR</th>\n",
       "      <th>FLAG_OWN_REALTY</th>\n",
       "      <th>CNT_CHILDREN</th>\n",
       "      <th>NAME_TYPE_SUITE</th>\n",
       "      <th>NAME_INCOME_TYPE</th>\n",
       "      <th>NAME_EDUCATION_TYPE</th>\n",
       "      <th>NAME_FAMILY_STATUS</th>\n",
       "      <th>NAME_HOUSING_TYPE</th>\n",
       "      <th>...</th>\n",
       "      <th>OBS_60_CNT_SOCIAL_CIRCLE</th>\n",
       "      <th>DEF_60_CNT_SOCIAL_CIRCLE</th>\n",
       "      <th>DAYS_LAST_PHONE_CHANGE</th>\n",
       "      <th>AMT_REQ_CREDIT_BUREAU_HOUR</th>\n",
       "      <th>AMT_REQ_CREDIT_BUREAU_DAY</th>\n",
       "      <th>AMT_REQ_CREDIT_BUREAU_WEEK</th>\n",
       "      <th>AMT_REQ_CREDIT_BUREAU_MON</th>\n",
       "      <th>AMT_REQ_CREDIT_BUREAU_QRT</th>\n",
       "      <th>AMT_REQ_CREDIT_BUREAU_YEAR</th>\n",
       "      <th>TARGET</th>\n",
       "    </tr>\n",
       "    <tr>\n",
       "      <th>SK_ID_CURR</th>\n",
       "      <th></th>\n",
       "      <th></th>\n",
       "      <th></th>\n",
       "      <th></th>\n",
       "      <th></th>\n",
       "      <th></th>\n",
       "      <th></th>\n",
       "      <th></th>\n",
       "      <th></th>\n",
       "      <th></th>\n",
       "      <th></th>\n",
       "      <th></th>\n",
       "      <th></th>\n",
       "      <th></th>\n",
       "      <th></th>\n",
       "      <th></th>\n",
       "      <th></th>\n",
       "      <th></th>\n",
       "      <th></th>\n",
       "      <th></th>\n",
       "      <th></th>\n",
       "    </tr>\n",
       "  </thead>\n",
       "  <tbody>\n",
       "    <tr>\n",
       "      <th>384575</th>\n",
       "      <td>Cash loans</td>\n",
       "      <td>M</td>\n",
       "      <td>Y</td>\n",
       "      <td>N</td>\n",
       "      <td>2</td>\n",
       "      <td>Unaccompanied</td>\n",
       "      <td>Commercial associate</td>\n",
       "      <td>Secondary / secondary special</td>\n",
       "      <td>Married</td>\n",
       "      <td>House / apartment</td>\n",
       "      <td>...</td>\n",
       "      <td>0.0</td>\n",
       "      <td>0.0</td>\n",
       "      <td>-2.0</td>\n",
       "      <td>0.0</td>\n",
       "      <td>0.0</td>\n",
       "      <td>0.0</td>\n",
       "      <td>1.0</td>\n",
       "      <td>0.0</td>\n",
       "      <td>1.0</td>\n",
       "      <td>0</td>\n",
       "    </tr>\n",
       "    <tr>\n",
       "      <th>214010</th>\n",
       "      <td>Cash loans</td>\n",
       "      <td>F</td>\n",
       "      <td>Y</td>\n",
       "      <td>Y</td>\n",
       "      <td>0</td>\n",
       "      <td>Unaccompanied</td>\n",
       "      <td>Commercial associate</td>\n",
       "      <td>Higher education</td>\n",
       "      <td>Single / not married</td>\n",
       "      <td>House / apartment</td>\n",
       "      <td>...</td>\n",
       "      <td>2.0</td>\n",
       "      <td>0.0</td>\n",
       "      <td>-1071.0</td>\n",
       "      <td>0.0</td>\n",
       "      <td>0.0</td>\n",
       "      <td>0.0</td>\n",
       "      <td>1.0</td>\n",
       "      <td>0.0</td>\n",
       "      <td>3.0</td>\n",
       "      <td>0</td>\n",
       "    </tr>\n",
       "  </tbody>\n",
       "</table>\n",
       "<p>2 rows × 121 columns</p>\n",
       "</div>"
      ],
      "text/plain": [
       "           NAME_CONTRACT_TYPE CODE_GENDER FLAG_OWN_CAR FLAG_OWN_REALTY  \\\n",
       "SK_ID_CURR                                                               \n",
       "384575             Cash loans           M            Y               N   \n",
       "214010             Cash loans           F            Y               Y   \n",
       "\n",
       "           CNT_CHILDREN NAME_TYPE_SUITE      NAME_INCOME_TYPE  \\\n",
       "SK_ID_CURR                                                      \n",
       "384575                2   Unaccompanied  Commercial associate   \n",
       "214010                0   Unaccompanied  Commercial associate   \n",
       "\n",
       "                      NAME_EDUCATION_TYPE    NAME_FAMILY_STATUS  \\\n",
       "SK_ID_CURR                                                        \n",
       "384575      Secondary / secondary special               Married   \n",
       "214010                   Higher education  Single / not married   \n",
       "\n",
       "            NAME_HOUSING_TYPE  ...   OBS_60_CNT_SOCIAL_CIRCLE  \\\n",
       "SK_ID_CURR                     ...                              \n",
       "384575      House / apartment  ...                        0.0   \n",
       "214010      House / apartment  ...                        2.0   \n",
       "\n",
       "           DEF_60_CNT_SOCIAL_CIRCLE DAYS_LAST_PHONE_CHANGE  \\\n",
       "SK_ID_CURR                                                   \n",
       "384575                          0.0                   -2.0   \n",
       "214010                          0.0                -1071.0   \n",
       "\n",
       "           AMT_REQ_CREDIT_BUREAU_HOUR AMT_REQ_CREDIT_BUREAU_DAY  \\\n",
       "SK_ID_CURR                                                        \n",
       "384575                            0.0                       0.0   \n",
       "214010                            0.0                       0.0   \n",
       "\n",
       "           AMT_REQ_CREDIT_BUREAU_WEEK AMT_REQ_CREDIT_BUREAU_MON  \\\n",
       "SK_ID_CURR                                                        \n",
       "384575                            0.0                       1.0   \n",
       "214010                            0.0                       1.0   \n",
       "\n",
       "           AMT_REQ_CREDIT_BUREAU_QRT AMT_REQ_CREDIT_BUREAU_YEAR TARGET  \n",
       "SK_ID_CURR                                                              \n",
       "384575                           0.0                        1.0      0  \n",
       "214010                           0.0                        3.0      0  \n",
       "\n",
       "[2 rows x 121 columns]"
      ]
     },
     "execution_count": 26,
     "metadata": {},
     "output_type": "execute_result"
    }
   ],
   "source": [
    "training_samp.head(2)"
   ]
  },
  {
   "cell_type": "markdown",
   "metadata": {},
   "source": [
    "### Data frame procedure proc df in fastai is very versatile and does the following\n",
    "* Pull out dependent variable separately and remove from original dataframe\n",
    "* mapper will store the metrics required for scaling\n",
    "* nas stores the mapping for missing values\n",
    "  * for continuous variables replace w/ median and create a separate missing variable\n",
    "  * for categorical variables replace missing w/ category 0"
   ]
  },
  {
   "cell_type": "code",
   "execution_count": 27,
   "metadata": {},
   "outputs": [],
   "source": [
    "df,y,nas,mapper=proc_df(training_samp, 'TARGET', do_scale=True)"
   ]
  },
  {
   "cell_type": "code",
   "execution_count": 28,
   "metadata": {},
   "outputs": [
    {
     "data": {
      "text/plain": [
       "(307511, 181)"
      ]
     },
     "execution_count": 28,
     "metadata": {},
     "output_type": "execute_result"
    }
   ],
   "source": [
    "df.shape"
   ]
  },
  {
   "cell_type": "code",
   "execution_count": 29,
   "metadata": {},
   "outputs": [],
   "source": [
    "test_set=test_set.set_index('SK_ID_CURR')"
   ]
  },
  {
   "cell_type": "code",
   "execution_count": 30,
   "metadata": {},
   "outputs": [],
   "source": [
    "df_test, _,nas,mapper=proc_df(test_set, 'TARGET', do_scale=True, mapper=mapper, na_dict=nas)"
   ]
  },
  {
   "cell_type": "code",
   "execution_count": 31,
   "metadata": {},
   "outputs": [
    {
     "data": {
      "text/plain": [
       "(48744, 181)"
      ]
     },
     "execution_count": 31,
     "metadata": {},
     "output_type": "execute_result"
    }
   ],
   "source": [
    "df_test.shape"
   ]
  },
  {
   "cell_type": "code",
   "execution_count": 32,
   "metadata": {},
   "outputs": [
    {
     "data": {
      "text/html": [
       "<div>\n",
       "<style scoped>\n",
       "    .dataframe tbody tr th:only-of-type {\n",
       "        vertical-align: middle;\n",
       "    }\n",
       "\n",
       "    .dataframe tbody tr th {\n",
       "        vertical-align: top;\n",
       "    }\n",
       "\n",
       "    .dataframe thead th {\n",
       "        text-align: right;\n",
       "    }\n",
       "</style>\n",
       "<table border=\"1\" class=\"dataframe\">\n",
       "  <thead>\n",
       "    <tr style=\"text-align: right;\">\n",
       "      <th></th>\n",
       "      <th>NAME_CONTRACT_TYPE</th>\n",
       "      <th>CODE_GENDER</th>\n",
       "      <th>FLAG_OWN_CAR</th>\n",
       "      <th>FLAG_OWN_REALTY</th>\n",
       "      <th>CNT_CHILDREN</th>\n",
       "      <th>NAME_TYPE_SUITE</th>\n",
       "      <th>NAME_INCOME_TYPE</th>\n",
       "      <th>NAME_EDUCATION_TYPE</th>\n",
       "      <th>NAME_FAMILY_STATUS</th>\n",
       "      <th>NAME_HOUSING_TYPE</th>\n",
       "      <th>...</th>\n",
       "      <th>DEF_30_CNT_SOCIAL_CIRCLE_na</th>\n",
       "      <th>OBS_60_CNT_SOCIAL_CIRCLE_na</th>\n",
       "      <th>DEF_60_CNT_SOCIAL_CIRCLE_na</th>\n",
       "      <th>DAYS_LAST_PHONE_CHANGE_na</th>\n",
       "      <th>AMT_REQ_CREDIT_BUREAU_HOUR_na</th>\n",
       "      <th>AMT_REQ_CREDIT_BUREAU_DAY_na</th>\n",
       "      <th>AMT_REQ_CREDIT_BUREAU_WEEK_na</th>\n",
       "      <th>AMT_REQ_CREDIT_BUREAU_MON_na</th>\n",
       "      <th>AMT_REQ_CREDIT_BUREAU_QRT_na</th>\n",
       "      <th>AMT_REQ_CREDIT_BUREAU_YEAR_na</th>\n",
       "    </tr>\n",
       "    <tr>\n",
       "      <th>SK_ID_CURR</th>\n",
       "      <th></th>\n",
       "      <th></th>\n",
       "      <th></th>\n",
       "      <th></th>\n",
       "      <th></th>\n",
       "      <th></th>\n",
       "      <th></th>\n",
       "      <th></th>\n",
       "      <th></th>\n",
       "      <th></th>\n",
       "      <th></th>\n",
       "      <th></th>\n",
       "      <th></th>\n",
       "      <th></th>\n",
       "      <th></th>\n",
       "      <th></th>\n",
       "      <th></th>\n",
       "      <th></th>\n",
       "      <th></th>\n",
       "      <th></th>\n",
       "      <th></th>\n",
       "    </tr>\n",
       "  </thead>\n",
       "  <tbody>\n",
       "    <tr>\n",
       "      <th>384575</th>\n",
       "      <td>1</td>\n",
       "      <td>2</td>\n",
       "      <td>2</td>\n",
       "      <td>1</td>\n",
       "      <td>3</td>\n",
       "      <td>7</td>\n",
       "      <td>2</td>\n",
       "      <td>5</td>\n",
       "      <td>2</td>\n",
       "      <td>2</td>\n",
       "      <td>...</td>\n",
       "      <td>-0.057717</td>\n",
       "      <td>-0.057717</td>\n",
       "      <td>-0.057717</td>\n",
       "      <td>-0.001803</td>\n",
       "      <td>-0.395084</td>\n",
       "      <td>-0.395084</td>\n",
       "      <td>-0.395084</td>\n",
       "      <td>-0.395084</td>\n",
       "      <td>-0.395084</td>\n",
       "      <td>-0.395084</td>\n",
       "    </tr>\n",
       "    <tr>\n",
       "      <th>214010</th>\n",
       "      <td>1</td>\n",
       "      <td>1</td>\n",
       "      <td>2</td>\n",
       "      <td>2</td>\n",
       "      <td>1</td>\n",
       "      <td>7</td>\n",
       "      <td>2</td>\n",
       "      <td>2</td>\n",
       "      <td>4</td>\n",
       "      <td>2</td>\n",
       "      <td>...</td>\n",
       "      <td>-0.057717</td>\n",
       "      <td>-0.057717</td>\n",
       "      <td>-0.057717</td>\n",
       "      <td>-0.001803</td>\n",
       "      <td>-0.395084</td>\n",
       "      <td>-0.395084</td>\n",
       "      <td>-0.395084</td>\n",
       "      <td>-0.395084</td>\n",
       "      <td>-0.395084</td>\n",
       "      <td>-0.395084</td>\n",
       "    </tr>\n",
       "  </tbody>\n",
       "</table>\n",
       "<p>2 rows × 181 columns</p>\n",
       "</div>"
      ],
      "text/plain": [
       "            NAME_CONTRACT_TYPE  CODE_GENDER  FLAG_OWN_CAR  FLAG_OWN_REALTY  \\\n",
       "SK_ID_CURR                                                                   \n",
       "384575                       1            2             2                1   \n",
       "214010                       1            1             2                2   \n",
       "\n",
       "            CNT_CHILDREN  NAME_TYPE_SUITE  NAME_INCOME_TYPE  \\\n",
       "SK_ID_CURR                                                    \n",
       "384575                 3                7                 2   \n",
       "214010                 1                7                 2   \n",
       "\n",
       "            NAME_EDUCATION_TYPE  NAME_FAMILY_STATUS  NAME_HOUSING_TYPE  \\\n",
       "SK_ID_CURR                                                               \n",
       "384575                        5                   2                  2   \n",
       "214010                        2                   4                  2   \n",
       "\n",
       "                        ...                DEF_30_CNT_SOCIAL_CIRCLE_na  \\\n",
       "SK_ID_CURR              ...                                              \n",
       "384575                  ...                                  -0.057717   \n",
       "214010                  ...                                  -0.057717   \n",
       "\n",
       "            OBS_60_CNT_SOCIAL_CIRCLE_na  DEF_60_CNT_SOCIAL_CIRCLE_na  \\\n",
       "SK_ID_CURR                                                             \n",
       "384575                        -0.057717                    -0.057717   \n",
       "214010                        -0.057717                    -0.057717   \n",
       "\n",
       "            DAYS_LAST_PHONE_CHANGE_na  AMT_REQ_CREDIT_BUREAU_HOUR_na  \\\n",
       "SK_ID_CURR                                                             \n",
       "384575                      -0.001803                      -0.395084   \n",
       "214010                      -0.001803                      -0.395084   \n",
       "\n",
       "            AMT_REQ_CREDIT_BUREAU_DAY_na  AMT_REQ_CREDIT_BUREAU_WEEK_na  \\\n",
       "SK_ID_CURR                                                                \n",
       "384575                         -0.395084                      -0.395084   \n",
       "214010                         -0.395084                      -0.395084   \n",
       "\n",
       "            AMT_REQ_CREDIT_BUREAU_MON_na  AMT_REQ_CREDIT_BUREAU_QRT_na  \\\n",
       "SK_ID_CURR                                                               \n",
       "384575                         -0.395084                     -0.395084   \n",
       "214010                         -0.395084                     -0.395084   \n",
       "\n",
       "            AMT_REQ_CREDIT_BUREAU_YEAR_na  \n",
       "SK_ID_CURR                                 \n",
       "384575                          -0.395084  \n",
       "214010                          -0.395084  \n",
       "\n",
       "[2 rows x 181 columns]"
      ]
     },
     "execution_count": 32,
     "metadata": {},
     "output_type": "execute_result"
    }
   ],
   "source": [
    "df.head(2)"
   ]
  },
  {
   "cell_type": "code",
   "execution_count": 33,
   "metadata": {},
   "outputs": [
    {
     "data": {
      "text/html": [
       "<div>\n",
       "<style scoped>\n",
       "    .dataframe tbody tr th:only-of-type {\n",
       "        vertical-align: middle;\n",
       "    }\n",
       "\n",
       "    .dataframe tbody tr th {\n",
       "        vertical-align: top;\n",
       "    }\n",
       "\n",
       "    .dataframe thead th {\n",
       "        text-align: right;\n",
       "    }\n",
       "</style>\n",
       "<table border=\"1\" class=\"dataframe\">\n",
       "  <thead>\n",
       "    <tr style=\"text-align: right;\">\n",
       "      <th></th>\n",
       "      <th>NAME_CONTRACT_TYPE</th>\n",
       "      <th>CODE_GENDER</th>\n",
       "      <th>FLAG_OWN_CAR</th>\n",
       "      <th>FLAG_OWN_REALTY</th>\n",
       "      <th>CNT_CHILDREN</th>\n",
       "      <th>NAME_TYPE_SUITE</th>\n",
       "      <th>NAME_INCOME_TYPE</th>\n",
       "      <th>NAME_EDUCATION_TYPE</th>\n",
       "      <th>NAME_FAMILY_STATUS</th>\n",
       "      <th>NAME_HOUSING_TYPE</th>\n",
       "      <th>...</th>\n",
       "      <th>DEF_30_CNT_SOCIAL_CIRCLE_na</th>\n",
       "      <th>OBS_60_CNT_SOCIAL_CIRCLE_na</th>\n",
       "      <th>DEF_60_CNT_SOCIAL_CIRCLE_na</th>\n",
       "      <th>DAYS_LAST_PHONE_CHANGE_na</th>\n",
       "      <th>AMT_REQ_CREDIT_BUREAU_HOUR_na</th>\n",
       "      <th>AMT_REQ_CREDIT_BUREAU_DAY_na</th>\n",
       "      <th>AMT_REQ_CREDIT_BUREAU_WEEK_na</th>\n",
       "      <th>AMT_REQ_CREDIT_BUREAU_MON_na</th>\n",
       "      <th>AMT_REQ_CREDIT_BUREAU_QRT_na</th>\n",
       "      <th>AMT_REQ_CREDIT_BUREAU_YEAR_na</th>\n",
       "    </tr>\n",
       "    <tr>\n",
       "      <th>SK_ID_CURR</th>\n",
       "      <th></th>\n",
       "      <th></th>\n",
       "      <th></th>\n",
       "      <th></th>\n",
       "      <th></th>\n",
       "      <th></th>\n",
       "      <th></th>\n",
       "      <th></th>\n",
       "      <th></th>\n",
       "      <th></th>\n",
       "      <th></th>\n",
       "      <th></th>\n",
       "      <th></th>\n",
       "      <th></th>\n",
       "      <th></th>\n",
       "      <th></th>\n",
       "      <th></th>\n",
       "      <th></th>\n",
       "      <th></th>\n",
       "      <th></th>\n",
       "      <th></th>\n",
       "    </tr>\n",
       "  </thead>\n",
       "  <tbody>\n",
       "    <tr>\n",
       "      <th>100001</th>\n",
       "      <td>1</td>\n",
       "      <td>1</td>\n",
       "      <td>1</td>\n",
       "      <td>2</td>\n",
       "      <td>1</td>\n",
       "      <td>7</td>\n",
       "      <td>8</td>\n",
       "      <td>2</td>\n",
       "      <td>2</td>\n",
       "      <td>2</td>\n",
       "      <td>...</td>\n",
       "      <td>-0.057717</td>\n",
       "      <td>-0.057717</td>\n",
       "      <td>-0.057717</td>\n",
       "      <td>-0.001803</td>\n",
       "      <td>-0.395084</td>\n",
       "      <td>-0.395084</td>\n",
       "      <td>-0.395084</td>\n",
       "      <td>-0.395084</td>\n",
       "      <td>-0.395084</td>\n",
       "      <td>-0.395084</td>\n",
       "    </tr>\n",
       "    <tr>\n",
       "      <th>100005</th>\n",
       "      <td>1</td>\n",
       "      <td>2</td>\n",
       "      <td>1</td>\n",
       "      <td>2</td>\n",
       "      <td>1</td>\n",
       "      <td>7</td>\n",
       "      <td>8</td>\n",
       "      <td>5</td>\n",
       "      <td>2</td>\n",
       "      <td>2</td>\n",
       "      <td>...</td>\n",
       "      <td>-0.057717</td>\n",
       "      <td>-0.057717</td>\n",
       "      <td>-0.057717</td>\n",
       "      <td>-0.001803</td>\n",
       "      <td>-0.395084</td>\n",
       "      <td>-0.395084</td>\n",
       "      <td>-0.395084</td>\n",
       "      <td>-0.395084</td>\n",
       "      <td>-0.395084</td>\n",
       "      <td>-0.395084</td>\n",
       "    </tr>\n",
       "  </tbody>\n",
       "</table>\n",
       "<p>2 rows × 181 columns</p>\n",
       "</div>"
      ],
      "text/plain": [
       "            NAME_CONTRACT_TYPE  CODE_GENDER  FLAG_OWN_CAR  FLAG_OWN_REALTY  \\\n",
       "SK_ID_CURR                                                                   \n",
       "100001                       1            1             1                2   \n",
       "100005                       1            2             1                2   \n",
       "\n",
       "            CNT_CHILDREN  NAME_TYPE_SUITE  NAME_INCOME_TYPE  \\\n",
       "SK_ID_CURR                                                    \n",
       "100001                 1                7                 8   \n",
       "100005                 1                7                 8   \n",
       "\n",
       "            NAME_EDUCATION_TYPE  NAME_FAMILY_STATUS  NAME_HOUSING_TYPE  \\\n",
       "SK_ID_CURR                                                               \n",
       "100001                        2                   2                  2   \n",
       "100005                        5                   2                  2   \n",
       "\n",
       "                        ...                DEF_30_CNT_SOCIAL_CIRCLE_na  \\\n",
       "SK_ID_CURR              ...                                              \n",
       "100001                  ...                                  -0.057717   \n",
       "100005                  ...                                  -0.057717   \n",
       "\n",
       "            OBS_60_CNT_SOCIAL_CIRCLE_na  DEF_60_CNT_SOCIAL_CIRCLE_na  \\\n",
       "SK_ID_CURR                                                             \n",
       "100001                        -0.057717                    -0.057717   \n",
       "100005                        -0.057717                    -0.057717   \n",
       "\n",
       "            DAYS_LAST_PHONE_CHANGE_na  AMT_REQ_CREDIT_BUREAU_HOUR_na  \\\n",
       "SK_ID_CURR                                                             \n",
       "100001                      -0.001803                      -0.395084   \n",
       "100005                      -0.001803                      -0.395084   \n",
       "\n",
       "            AMT_REQ_CREDIT_BUREAU_DAY_na  AMT_REQ_CREDIT_BUREAU_WEEK_na  \\\n",
       "SK_ID_CURR                                                                \n",
       "100001                         -0.395084                      -0.395084   \n",
       "100005                         -0.395084                      -0.395084   \n",
       "\n",
       "            AMT_REQ_CREDIT_BUREAU_MON_na  AMT_REQ_CREDIT_BUREAU_QRT_na  \\\n",
       "SK_ID_CURR                                                               \n",
       "100001                         -0.395084                     -0.395084   \n",
       "100005                         -0.395084                     -0.395084   \n",
       "\n",
       "            AMT_REQ_CREDIT_BUREAU_YEAR_na  \n",
       "SK_ID_CURR                                 \n",
       "100001                          -0.395084  \n",
       "100005                          -0.395084  \n",
       "\n",
       "[2 rows x 181 columns]"
      ]
     },
     "execution_count": 33,
     "metadata": {},
     "output_type": "execute_result"
    }
   ],
   "source": [
    "df_test.head(2)"
   ]
  },
  {
   "cell_type": "code",
   "execution_count": 35,
   "metadata": {},
   "outputs": [
    {
     "data": {
      "text/plain": [
       "230633"
      ]
     },
     "execution_count": 35,
     "metadata": {},
     "output_type": "execute_result"
    }
   ],
   "source": [
    "# define validation_set as last 25% of rows sorted by index\n",
    "train_ratio=0.75\n",
    "train_size=int(samp_size*train_ratio)\n",
    "val_idx=list(range(train_size, len(df)))\n",
    "train_size"
   ]
  },
  {
   "cell_type": "markdown",
   "metadata": {},
   "source": [
    "### Columnar Model Data Object can be created for structured data\n",
    "* path as to where to save files etc\n",
    "* validation indices\n",
    "* name of dataframe input\n",
    "* dependent y\n",
    "* identify categorical variables\n",
    "* batch size\n",
    "* Is this regression vs classification\n",
    "* specify test dataset"
   ]
  },
  {
   "cell_type": "code",
   "execution_count": 36,
   "metadata": {},
   "outputs": [],
   "source": [
    "md=ColumnarModelData.from_data_frame('~/hcdr', val_idx, df, y.astype('int32'), cat_flds=cat_vars, bs=128, is_reg=False, test_df=df_test)"
   ]
  },
  {
   "cell_type": "markdown",
   "metadata": {},
   "source": [
    "### Embedding matrices for categorical variables. A typical way categorical variables are dealt with is via one hot encoding so e.g. if the variable is \"marital status\" and has the following levels--married, single, divorced. One hot encoding would essentially code each one as a 1 with the others being 0. \n",
    "\n",
    "### WIth embedding matrices let us say we can represent the variable with 2 embeddings so we will have a 3X2 embedding matrix with random values (initially). Richer concept the one hot encoding and allows for concepts in multi dimensional space as opposed to OHE which is uni-dimensional\n",
    "\n",
    "### For efficiency purposes, the value of the variable is stored as an index (e.g. 0,1,2 for the three levels) and a lookup is done to grab the appropriate row from the embedding matrix"
   ]
  },
  {
   "cell_type": "code",
   "execution_count": 37,
   "metadata": {},
   "outputs": [],
   "source": [
    "cat_sz=[(c,len(training_samp[c].cat.categories)+1) for c in cat_vars]"
   ]
  },
  {
   "cell_type": "code",
   "execution_count": 38,
   "metadata": {},
   "outputs": [
    {
     "data": {
      "text/plain": [
       "[('NAME_CONTRACT_TYPE', 3),\n",
       " ('CODE_GENDER', 4),\n",
       " ('FLAG_OWN_CAR', 3),\n",
       " ('FLAG_OWN_REALTY', 3),\n",
       " ('CNT_CHILDREN', 16),\n",
       " ('NAME_TYPE_SUITE', 8),\n",
       " ('NAME_INCOME_TYPE', 9),\n",
       " ('NAME_EDUCATION_TYPE', 6),\n",
       " ('NAME_FAMILY_STATUS', 7),\n",
       " ('NAME_HOUSING_TYPE', 7),\n",
       " ('FLAG_MOBIL', 3),\n",
       " ('FLAG_EMP_PHONE', 3),\n",
       " ('FLAG_WORK_PHONE', 3),\n",
       " ('FLAG_CONT_MOBILE', 3),\n",
       " ('FLAG_PHONE', 3),\n",
       " ('FLAG_EMAIL', 3),\n",
       " ('OCCUPATION_TYPE', 19),\n",
       " ('REGION_RATING_CLIENT', 4),\n",
       " ('REGION_RATING_CLIENT_W_CITY', 4),\n",
       " ('WEEKDAY_APPR_PROCESS_START', 8),\n",
       " ('HOUR_APPR_PROCESS_START', 25),\n",
       " ('REG_REGION_NOT_LIVE_REGION', 3),\n",
       " ('REG_REGION_NOT_WORK_REGION', 3),\n",
       " ('LIVE_REGION_NOT_WORK_REGION', 3),\n",
       " ('REG_CITY_NOT_LIVE_CITY', 3),\n",
       " ('REG_CITY_NOT_WORK_CITY', 3),\n",
       " ('LIVE_CITY_NOT_WORK_CITY', 3),\n",
       " ('ORGANIZATION_TYPE', 59),\n",
       " ('FONDKAPREMONT_MODE', 5),\n",
       " ('HOUSETYPE_MODE', 4),\n",
       " ('WALLSMATERIAL_MODE', 8),\n",
       " ('EMERGENCYSTATE_MODE', 3),\n",
       " ('FLAG_DOCUMENT_2', 3),\n",
       " ('FLAG_DOCUMENT_3', 3),\n",
       " ('FLAG_DOCUMENT_4', 3),\n",
       " ('FLAG_DOCUMENT_5', 3),\n",
       " ('FLAG_DOCUMENT_6', 3),\n",
       " ('FLAG_DOCUMENT_7', 3),\n",
       " ('FLAG_DOCUMENT_8', 3),\n",
       " ('FLAG_DOCUMENT_9', 3),\n",
       " ('FLAG_DOCUMENT_10', 3),\n",
       " ('FLAG_DOCUMENT_11', 3),\n",
       " ('FLAG_DOCUMENT_12', 3),\n",
       " ('FLAG_DOCUMENT_13', 3),\n",
       " ('FLAG_DOCUMENT_14', 3),\n",
       " ('FLAG_DOCUMENT_15', 3),\n",
       " ('FLAG_DOCUMENT_16', 3),\n",
       " ('FLAG_DOCUMENT_17', 3),\n",
       " ('FLAG_DOCUMENT_18', 3),\n",
       " ('FLAG_DOCUMENT_19', 3),\n",
       " ('FLAG_DOCUMENT_20', 3),\n",
       " ('FLAG_DOCUMENT_21', 3)]"
      ]
     },
     "execution_count": 38,
     "metadata": {},
     "output_type": "execute_result"
    }
   ],
   "source": [
    "cat_sz"
   ]
  },
  {
   "cell_type": "code",
   "execution_count": 39,
   "metadata": {},
   "outputs": [],
   "source": [
    "emb_szs=[(c,min(50,(c+1)//2)) for _,c in cat_sz]"
   ]
  },
  {
   "cell_type": "markdown",
   "metadata": {},
   "source": [
    "### developing the Learner \n",
    "* embedding sizes computed before\n",
    "* number of continuous variables\n",
    "* drop out for embedding matrix\n",
    "* number of outputs\n",
    "* activations of linear layers\n",
    "* dropouts of linear layers\n",
    "* y_range\n",
    "* use_bn (batch norm)"
   ]
  },
  {
   "cell_type": "code",
   "execution_count": 40,
   "metadata": {},
   "outputs": [],
   "source": [
    "m = md.get_learner(emb_szs, len(df.columns)-len(cat_vars),0.5, 2, [500,250,250], [0.1,0.1,0.1],None,True)\n",
    "lr=1e-3"
   ]
  },
  {
   "cell_type": "code",
   "execution_count": 41,
   "metadata": {},
   "outputs": [
    {
     "data": {
      "application/vnd.jupyter.widget-view+json": {
       "model_id": "c802a7436a334f878db5c17cdfde5b8e",
       "version_major": 2,
       "version_minor": 0
      },
      "text/html": [
       "<p>Failed to display Jupyter Widget of type <code>HBox</code>.</p>\n",
       "<p>\n",
       "  If you're reading this message in the Jupyter Notebook or JupyterLab Notebook, it may mean\n",
       "  that the widgets JavaScript is still loading. If this message persists, it\n",
       "  likely means that the widgets JavaScript library is either not installed or\n",
       "  not enabled. See the <a href=\"https://ipywidgets.readthedocs.io/en/stable/user_install.html\">Jupyter\n",
       "  Widgets Documentation</a> for setup instructions.\n",
       "</p>\n",
       "<p>\n",
       "  If you're reading this message in another frontend (for example, a static\n",
       "  rendering on GitHub or <a href=\"https://nbviewer.jupyter.org/\">NBViewer</a>),\n",
       "  it may mean that your frontend doesn't currently support widgets.\n",
       "</p>\n"
      ],
      "text/plain": [
       "HBox(children=(IntProgress(value=0, description='Epoch', max=1), HTML(value='')))"
      ]
     },
     "metadata": {},
     "output_type": "display_data"
    },
    {
     "name": "stdout",
     "output_type": "stream",
     "text": [
      " 61%|██████    | 1097/1802 [00:20<00:13, 53.03it/s, loss=0.315]"
     ]
    }
   ],
   "source": [
    "m.lr_find()"
   ]
  },
  {
   "cell_type": "code",
   "execution_count": 42,
   "metadata": {},
   "outputs": [
    {
     "data": {
      "image/png": "[encoded data removed]",
      "text/plain": [
       "<matplotlib.figure.Figure at 0x7fc35fff3048>"
      ]
     },
     "metadata": {},
     "output_type": "display_data"
    }
   ],
   "source": [
    "m.sched.plot(100)"
   ]
  },
  {
   "cell_type": "code",
   "execution_count": 48,
   "metadata": {},
   "outputs": [],
   "source": [
    "lr=1e-5"
   ]
  },
  {
   "cell_type": "markdown",
   "metadata": {},
   "source": [
    "#### Create the __AUC__ metric"
   ]
  },
  {
   "cell_type": "code",
   "execution_count": 44,
   "metadata": {},
   "outputs": [],
   "source": [
    "from sklearn.metrics import roc_auc_score"
   ]
  },
  {
   "cell_type": "code",
   "execution_count": 45,
   "metadata": {},
   "outputs": [],
   "source": [
    "def roc_auc_own(y_score, y_true):\n",
    "    y_score = np.exp(y_score[:,1])\n",
    "    return roc_auc_score(y_true, y_score)"
   ]
  },
  {
   "cell_type": "code",
   "execution_count": 49,
   "metadata": {},
   "outputs": [
    {
     "data": {
      "application/vnd.jupyter.widget-view+json": {
       "model_id": "f4de835965e64414bf90ccfc2af81d7e",
       "version_major": 2,
       "version_minor": 0
      },
      "text/html": [
       "<p>Failed to display Jupyter Widget of type <code>HBox</code>.</p>\n",
       "<p>\n",
       "  If you're reading this message in the Jupyter Notebook or JupyterLab Notebook, it may mean\n",
       "  that the widgets JavaScript is still loading. If this message persists, it\n",
       "  likely means that the widgets JavaScript library is either not installed or\n",
       "  not enabled. See the <a href=\"https://ipywidgets.readthedocs.io/en/stable/user_install.html\">Jupyter\n",
       "  Widgets Documentation</a> for setup instructions.\n",
       "</p>\n",
       "<p>\n",
       "  If you're reading this message in another frontend (for example, a static\n",
       "  rendering on GitHub or <a href=\"https://nbviewer.jupyter.org/\">NBViewer</a>),\n",
       "  it may mean that your frontend doesn't currently support widgets.\n",
       "</p>\n"
      ],
      "text/plain": [
       "HBox(children=(IntProgress(value=0, description='Epoch', max=5), HTML(value='')))"
      ]
     },
     "metadata": {},
     "output_type": "display_data"
    },
    {
     "name": "stdout",
     "output_type": "stream",
     "text": [
      "epoch      trn_loss   val_loss   roc_auc_own                   \n",
      "    0      0.247421   0.249815   0.745494  \n",
      "    1      0.253324   0.249741   0.745497                      \n",
      "    2      0.244906   0.249645   0.745849                      \n",
      "    3      0.253063   0.249815   0.745706                      \n",
      "    4      0.249536   0.249659   0.745809                      \n",
      "\n"
     ]
    },
    {
     "data": {
      "text/plain": [
       "[array([ 0.24966]), 0.74580890782893694]"
      ]
     },
     "execution_count": 49,
     "metadata": {},
     "output_type": "execute_result"
    }
   ],
   "source": [
    "m.fit(lr,5, metrics=[roc_auc_own])"
   ]
  },
  {
   "cell_type": "code",
   "execution_count": 50,
   "metadata": {},
   "outputs": [
    {
     "data": {
      "application/vnd.jupyter.widget-view+json": {
       "model_id": "95e73831e9f4493c89da5e43494ccf0f",
       "version_major": 2,
       "version_minor": 0
      },
      "text/html": [
       "<p>Failed to display Jupyter Widget of type <code>HBox</code>.</p>\n",
       "<p>\n",
       "  If you're reading this message in the Jupyter Notebook or JupyterLab Notebook, it may mean\n",
       "  that the widgets JavaScript is still loading. If this message persists, it\n",
       "  likely means that the widgets JavaScript library is either not installed or\n",
       "  not enabled. See the <a href=\"https://ipywidgets.readthedocs.io/en/stable/user_install.html\">Jupyter\n",
       "  Widgets Documentation</a> for setup instructions.\n",
       "</p>\n",
       "<p>\n",
       "  If you're reading this message in another frontend (for example, a static\n",
       "  rendering on GitHub or <a href=\"https://nbviewer.jupyter.org/\">NBViewer</a>),\n",
       "  it may mean that your frontend doesn't currently support widgets.\n",
       "</p>\n"
      ],
      "text/plain": [
       "HBox(children=(IntProgress(value=0, description='Epoch', max=3), HTML(value='')))"
      ]
     },
     "metadata": {},
     "output_type": "display_data"
    },
    {
     "name": "stdout",
     "output_type": "stream",
     "text": [
      "epoch      trn_loss   val_loss   roc_auc_own                   \n",
      "    0      0.244845   0.249721   0.745806  \n",
      "    1      0.251903   0.249647   0.745895                      \n",
      "    2      0.248606   0.249766   0.745916                      \n",
      "\n"
     ]
    },
    {
     "data": {
      "text/plain": [
       "[array([ 0.24977]), 0.74591561689070573]"
      ]
     },
     "execution_count": 50,
     "metadata": {},
     "output_type": "execute_result"
    }
   ],
   "source": [
    "m.fit(lr, 3, cycle_len=1, metrics=[roc_auc_own])"
   ]
  }
 ],
 "metadata": {
  "kernelspec": {
   "display_name": "Python 3",
   "language": "python",
   "name": "python3"
  },
  "language_info": {
   "codemirror_mode": {
    "name": "ipython",
    "version": 3
   },
   "file_extension": ".py",
   "mimetype": "text/x-python",
   "name": "python",
   "nbconvert_exporter": "python",
   "pygments_lexer": "ipython3",
   "version": "3.6.4"
  }
 },
 "nbformat": 4,
 "nbformat_minor": 2
}
